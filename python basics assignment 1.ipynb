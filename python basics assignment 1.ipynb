{
 "cells": [
  {
   "cell_type": "code",
   "execution_count": null,
   "id": "00c5753b",
   "metadata": {},
   "outputs": [],
   "source": [
    "#ASSIGNMENT 1 python basics\n",
    "#question 1\n",
    "\n",
    "   *  is mathematical operators.\n",
    "   'hello'is value\n",
    "   -87.8  is value\n",
    "   - is mathematical operators.\n",
    "   / is mathematical operators.\n",
    "   + is mathematical operators."
   ]
  },
  {
   "cell_type": "markdown",
   "id": "a2caf82b",
   "metadata": {},
   "source": []
  },
  {
   "cell_type": "markdown",
   "id": "d23e74fe",
   "metadata": {},
   "source": [
    "#q2\n",
    "string is representing the alphabets which is enclosed by single or double quotes,variable is holding the values temprovary."
   ]
  },
  {
   "cell_type": "markdown",
   "id": "91990392",
   "metadata": {},
   "source": [
    "#q3\n",
    "int=integer representing numerical value ex:22,100\n",
    "float=it is also numerical value but it contain decimal point for eg:44.5\n",
    "string=it contains alphabets with the help of single and double quotes\n",
    "\n"
   ]
  },
  {
   "cell_type": "markdown",
   "id": "aedcb451",
   "metadata": {},
   "source": [
    "#q4\n",
    "A sequence of operands and operators, like a + b - 5 , is called an expression.\n",
    "Python supports many operators for combining data objects into expressions."
   ]
  },
  {
   "cell_type": "markdown",
   "id": "6caf4722",
   "metadata": {},
   "source": [
    "#q5  \n",
    "Expression is made up of values, containers, and mathematical operators (operands) and \n",
    "the statement is just like a command that a python interpreter executes like print"
   ]
  },
  {
   "cell_type": "code",
   "execution_count": 12,
   "id": "735fb880",
   "metadata": {},
   "outputs": [
    {
     "data": {
      "text/plain": [
       "23"
      ]
     },
     "execution_count": 12,
     "metadata": {},
     "output_type": "execute_result"
    }
   ],
   "source": [
    "#q6\n",
    "bacon = 22\n",
    "bacon + 1"
   ]
  },
  {
   "cell_type": "code",
   "execution_count": 13,
   "id": "94b32f18",
   "metadata": {},
   "outputs": [
    {
     "data": {
      "text/plain": [
       "'spamspamspam'"
      ]
     },
     "execution_count": 13,
     "metadata": {},
     "output_type": "execute_result"
    }
   ],
   "source": [
    "#q7\n",
    "'spam' + 'spamspam'"
   ]
  },
  {
   "cell_type": "code",
   "execution_count": 14,
   "id": "849778e2",
   "metadata": {},
   "outputs": [
    {
     "data": {
      "text/plain": [
       "'spamspamspam'"
      ]
     },
     "execution_count": 14,
     "metadata": {},
     "output_type": "execute_result"
    }
   ],
   "source": [
    "'spam'*3"
   ]
  },
  {
   "cell_type": "markdown",
   "id": "5b5ab668",
   "metadata": {},
   "source": [
    "#q8\n",
    "Variable names cannot begin with a number. so 100 is not valid and eggs is a string so it is valid variable."
   ]
  },
  {
   "cell_type": "markdown",
   "id": "1f2f36a8",
   "metadata": {},
   "source": [
    "#q9\n",
    "The int() , float() , and str( ) functions will evaluate to the integer, floating-point number, \n",
    "and string versions of the value passed to them."
   ]
  },
  {
   "cell_type": "code",
   "execution_count": 18,
   "id": "36ceb190",
   "metadata": {},
   "outputs": [
    {
     "data": {
      "text/plain": [
       "'i have eaten99burritos'"
      ]
     },
     "execution_count": 18,
     "metadata": {},
     "output_type": "execute_result"
    }
   ],
   "source": [
    "#q10\n",
    "#we have to change int to be str[99 have to close in single or double quotes]\n",
    "'i have eaten'+'99'+'burritos'"
   ]
  },
  {
   "cell_type": "code",
   "execution_count": null,
   "id": "68384519",
   "metadata": {},
   "outputs": [],
   "source": []
  }
 ],
 "metadata": {
  "kernelspec": {
   "display_name": "Python 3 (ipykernel)",
   "language": "python",
   "name": "python3"
  },
  "language_info": {
   "codemirror_mode": {
    "name": "ipython",
    "version": 3
   },
   "file_extension": ".py",
   "mimetype": "text/x-python",
   "name": "python",
   "nbconvert_exporter": "python",
   "pygments_lexer": "ipython3",
   "version": "3.9.7"
  }
 },
 "nbformat": 4,
 "nbformat_minor": 5
}
