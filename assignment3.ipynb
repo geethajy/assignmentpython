{
 "cells": [
  {
   "cell_type": "markdown",
   "id": "1ddc652d",
   "metadata": {},
   "source": [
    "#q1\n",
    "Functions reduce the need for duplicate code. This makes programs shorter, easier to read, and easier to update.\n",
    "set of code is for particular task."
   ]
  },
  {
   "cell_type": "markdown",
   "id": "367c9a45",
   "metadata": {},
   "source": [
    "#q2\n",
    "When a function is \"called\" the program \"leaves\" the current section of code and \n",
    "begins to execute the first line inside the function.\n"
   ]
  },
  {
   "cell_type": "markdown",
   "id": "9a693d8f",
   "metadata": {},
   "source": [
    "#q3 A function is created with the def keyword. The statements in the block of the function must be indented.\n",
    "The def keyword is followed by the function name with round brackets and a colon"
   ]
  },
  {
   "cell_type": "markdown",
   "id": "de9571a7",
   "metadata": {},
   "source": [
    "#q4 A function is procedure to achieve a particular result while function call is using this function to achive that task."
   ]
  },
  {
   "cell_type": "markdown",
   "id": "742518b3",
   "metadata": {},
   "source": [
    "#q5 There's only one global Python scope per program execution. \n",
    "This scope remains in existence until the program terminates and all its names are forgotten.\n"
   ]
  },
  {
   "cell_type": "markdown",
   "id": "b6eb06d9",
   "metadata": {},
   "source": [
    "#q6 When the execution of the function terminates (returns), the local variables are destroyed.\n",
    "Codelens helps you visualize this because the local variables disappear after the function returns."
   ]
  },
  {
   "cell_type": "markdown",
   "id": "47df0a92",
   "metadata": {},
   "source": [
    "#q7  The value that a function returns to the caller is generally known as the function's return value.\n",
    "All Python functions have a return value, either explicit or implicit."
   ]
  },
  {
   "cell_type": "markdown",
   "id": "48e9dd4e",
   "metadata": {},
   "source": [
    "#q8 If no return statement appears in a function definition, \n",
    "control automatically returns to the calling function after the last statement of the called function is executed.\n",
    "In this case, the return value of the called function is undefine"
   ]
  },
  {
   "cell_type": "markdown",
   "id": "e6098e9c",
   "metadata": {},
   "source": [
    "#q9 If you want to refer to a global variable in a function, \n",
    "you can use the global keyword to declare which variables are global."
   ]
  },
  {
   "cell_type": "markdown",
   "id": "94ba1773",
   "metadata": {},
   "source": [
    "#q10 None is a data type of its own (NoneType) and only None can be None."
   ]
  },
  {
   "cell_type": "markdown",
   "id": "a4e7c16d",
   "metadata": {},
   "source": [
    "#q11 That import statement imports a module named areallyourpetsnamederic.\n"
   ]
  },
  {
   "cell_type": "markdown",
   "id": "a6dd1659",
   "metadata": {},
   "source": [
    "#q12  This function can be called with spam. bacon()."
   ]
  },
  {
   "cell_type": "markdown",
   "id": "636e292c",
   "metadata": {},
   "source": [
    "#q13 When it encounters an error, the control is passed to the except block, skipping the code in between.\n",
    "As seen in the above code, we have moved our code inside a try and except statement. \n",
    "Try running the program and it should throw an error message instead of crashing the program."
   ]
  },
  {
   "cell_type": "markdown",
   "id": "7145385b",
   "metadata": {},
   "source": [
    "#q14 The try block lets you test a block of code for errors. \n",
    "The except block lets you handle the error. The else block lets you execute code when there is no error."
   ]
  },
  {
   "cell_type": "code",
   "execution_count": null,
   "id": "1f7ee6de",
   "metadata": {},
   "outputs": [],
   "source": []
  }
 ],
 "metadata": {
  "kernelspec": {
   "display_name": "Python 3 (ipykernel)",
   "language": "python",
   "name": "python3"
  },
  "language_info": {
   "codemirror_mode": {
    "name": "ipython",
    "version": 3
   },
   "file_extension": ".py",
   "mimetype": "text/x-python",
   "name": "python",
   "nbconvert_exporter": "python",
   "pygments_lexer": "ipython3",
   "version": "3.9.7"
  }
 },
 "nbformat": 4,
 "nbformat_minor": 5
}
