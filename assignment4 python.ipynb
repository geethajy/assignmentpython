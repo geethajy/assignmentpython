{
 "cells": [
  {
   "cell_type": "code",
   "execution_count": 1,
   "id": "5569edc4",
   "metadata": {},
   "outputs": [],
   "source": [
    "#q1 [] it is a square brsckets which is used to list out the list in python.\n",
    "The empty list value, which is a list value that contains no items. \n",
    "This is similar to how '' is the empty string value."
   ]
  },
  {
   "cell_type": "code",
   "execution_count": 6,
   "id": "cca1888c",
   "metadata": {},
   "outputs": [],
   "source": [
    "#q2\n",
    "spam=[2,4,6,8,10]"
   ]
  },
  {
   "cell_type": "code",
   "execution_count": 7,
   "id": "e2806546",
   "metadata": {},
   "outputs": [
    {
     "data": {
      "text/plain": [
       "[2, 4, 6, 8, 10]"
      ]
     },
     "execution_count": 7,
     "metadata": {},
     "output_type": "execute_result"
    }
   ],
   "source": [
    "spam"
   ]
  },
  {
   "cell_type": "code",
   "execution_count": 8,
   "id": "c3b73a74",
   "metadata": {},
   "outputs": [],
   "source": [
    "spam[2]=\"hello\""
   ]
  },
  {
   "cell_type": "code",
   "execution_count": 9,
   "id": "eb86b4c9",
   "metadata": {},
   "outputs": [
    {
     "data": {
      "text/plain": [
       "[2, 4, 'hello', 8, 10]"
      ]
     },
     "execution_count": 9,
     "metadata": {},
     "output_type": "execute_result"
    }
   ],
   "source": [
    "spam"
   ]
  },
  {
   "cell_type": "code",
   "execution_count": 10,
   "id": "d1d0c1c3",
   "metadata": {},
   "outputs": [
    {
     "data": {
      "text/plain": [
       "8"
      ]
     },
     "execution_count": 10,
     "metadata": {},
     "output_type": "execute_result"
    }
   ],
   "source": [
    "#q3\n",
    "spam[int(int(\"3\" * 2) / 11)]"
   ]
  },
  {
   "cell_type": "code",
   "execution_count": 14,
   "id": "71f99d4c",
   "metadata": {},
   "outputs": [],
   "source": [
    "#q4\n",
    "spam=[2,4,6,8,10,\"a\",\"b\",\"c\",\"d\"]"
   ]
  },
  {
   "cell_type": "code",
   "execution_count": 15,
   "id": "daed91af",
   "metadata": {},
   "outputs": [
    {
     "data": {
      "text/plain": [
       "'d'"
      ]
     },
     "execution_count": 15,
     "metadata": {},
     "output_type": "execute_result"
    }
   ],
   "source": [
    "spam[-1]"
   ]
  },
  {
   "cell_type": "code",
   "execution_count": 16,
   "id": "2cf0703c",
   "metadata": {},
   "outputs": [
    {
     "data": {
      "text/plain": [
       "[2, 4]"
      ]
     },
     "execution_count": 16,
     "metadata": {},
     "output_type": "execute_result"
    }
   ],
   "source": [
    "#q5\n",
    "spam[:2]"
   ]
  },
  {
   "cell_type": "code",
   "execution_count": 19,
   "id": "70ea4da0",
   "metadata": {},
   "outputs": [],
   "source": [
    "#q6\n",
    "bacon=[3.14,\"cat\",11,\"cat\",True]"
   ]
  },
  {
   "cell_type": "code",
   "execution_count": 20,
   "id": "99b7a372",
   "metadata": {},
   "outputs": [
    {
     "data": {
      "text/plain": [
       "[3.14, 'cat', 11, 'cat', True]"
      ]
     },
     "execution_count": 20,
     "metadata": {},
     "output_type": "execute_result"
    }
   ],
   "source": [
    "bacon"
   ]
  },
  {
   "cell_type": "code",
   "execution_count": 21,
   "id": "1ced4f59",
   "metadata": {},
   "outputs": [
    {
     "data": {
      "text/plain": [
       "1"
      ]
     },
     "execution_count": 21,
     "metadata": {},
     "output_type": "execute_result"
    }
   ],
   "source": [
    "bacon.index(\"cat\")"
   ]
  },
  {
   "cell_type": "code",
   "execution_count": 22,
   "id": "60fddb87",
   "metadata": {},
   "outputs": [],
   "source": [
    "#q7\n",
    "bacon.append(99)"
   ]
  },
  {
   "cell_type": "code",
   "execution_count": 23,
   "id": "c8e80572",
   "metadata": {},
   "outputs": [
    {
     "data": {
      "text/plain": [
       "[3.14, 'cat', 11, 'cat', True, 99]"
      ]
     },
     "execution_count": 23,
     "metadata": {},
     "output_type": "execute_result"
    }
   ],
   "source": [
    "bacon"
   ]
  },
  {
   "cell_type": "code",
   "execution_count": 25,
   "id": "0d286ff5",
   "metadata": {},
   "outputs": [
    {
     "data": {
      "text/plain": [
       "[3.14, 11, True, 99]"
      ]
     },
     "execution_count": 25,
     "metadata": {},
     "output_type": "execute_result"
    }
   ],
   "source": [
    "#q8\n",
    "bacon.remove(\"cat\")\n",
    "bacon"
   ]
  },
  {
   "cell_type": "markdown",
   "id": "c30165e6",
   "metadata": {},
   "source": [
    "#q9\n",
    "he operator for list concatenation is +, while the operator for replication is *. "
   ]
  },
  {
   "cell_type": "code",
   "execution_count": 29,
   "id": "0c97c2cd",
   "metadata": {},
   "outputs": [
    {
     "data": {
      "text/plain": [
       "[1, 2, 4, 5, 6]"
      ]
     },
     "execution_count": 29,
     "metadata": {},
     "output_type": "execute_result"
    }
   ],
   "source": [
    "#concatenation\n",
    "l=[1,2]\n",
    "l1=[4,5,6]\n",
    "a=l+l1\n",
    "a"
   ]
  },
  {
   "cell_type": "code",
   "execution_count": 30,
   "id": "ec960b91",
   "metadata": {},
   "outputs": [
    {
     "data": {
      "text/plain": [
       "[1, 2, 1, 2, 1, 2]"
      ]
     },
     "execution_count": 30,
     "metadata": {},
     "output_type": "execute_result"
    }
   ],
   "source": [
    "#replication\n",
    "b=l*3\n",
    "b"
   ]
  },
  {
   "cell_type": "markdown",
   "id": "8b60c54f",
   "metadata": {},
   "source": [
    "#q10\n",
    "While append() will add values only to the end of a list, \n",
    "insert() can add them anywhere in the list."
   ]
  },
  {
   "cell_type": "code",
   "execution_count": 32,
   "id": "1bd0dc61",
   "metadata": {},
   "outputs": [],
   "source": [
    "#append\n",
    "l.append(5)"
   ]
  },
  {
   "cell_type": "code",
   "execution_count": 33,
   "id": "48a77a21",
   "metadata": {},
   "outputs": [
    {
     "data": {
      "text/plain": [
       "[1, 2, 5]"
      ]
     },
     "execution_count": 33,
     "metadata": {},
     "output_type": "execute_result"
    }
   ],
   "source": [
    "l"
   ]
  },
  {
   "cell_type": "code",
   "execution_count": 34,
   "id": "cf9c30e9",
   "metadata": {},
   "outputs": [],
   "source": [
    "#insert\n",
    "l.insert(1,\"cat\")"
   ]
  },
  {
   "cell_type": "code",
   "execution_count": 35,
   "id": "ba2865c7",
   "metadata": {},
   "outputs": [
    {
     "data": {
      "text/plain": [
       "[1, 'cat', 2, 5]"
      ]
     },
     "execution_count": 35,
     "metadata": {},
     "output_type": "execute_result"
    }
   ],
   "source": [
    "l"
   ]
  },
  {
   "cell_type": "markdown",
   "id": "64207a54",
   "metadata": {},
   "source": [
    "#q11\n",
    "The methods are remove(), pop(). It helps to remove the\n",
    "very first given element matching from the list. \n",
    "The pop() method removes an element from the list based on the index given."
   ]
  },
  {
   "cell_type": "markdown",
   "id": "d604aa34",
   "metadata": {},
   "source": [
    "#q12\n",
    "firstly, Lists are mutable but Strings are immutable. \n",
    "Secondly, elements of a list can be of different types whereas a String\n",
    "only contains characters that are all of String type."
   ]
  },
  {
   "cell_type": "markdown",
   "id": "377be559",
   "metadata": {},
   "source": [
    "#q13\n",
    "The difference between the tuples and lists is that while the tuples \n",
    "are immutable objects the lists are mutable. \n",
    "This means that tuples cannot be changed while the lists can be modified."
   ]
  },
  {
   "cell_type": "code",
   "execution_count": 47,
   "id": "6b926c9e",
   "metadata": {},
   "outputs": [
    {
     "data": {
      "text/plain": [
       "42"
      ]
     },
     "execution_count": 47,
     "metadata": {},
     "output_type": "execute_result"
    }
   ],
   "source": [
    "#q14 tuple\n",
    "(42) "
   ]
  },
  {
   "cell_type": "markdown",
   "id": "6e6ea89b",
   "metadata": {},
   "source": [
    "#q15\n",
    "List comprehension along with zip() function is used to convert the \n",
    "tuples to list and create a list of tuples.\n",
    "Python iter() function is used to iterate an element of an object at a time"
   ]
  },
  {
   "cell_type": "markdown",
   "id": "655221ae",
   "metadata": {},
   "source": [
    "#q16\n",
    "Variables will contain references to list values rather than list values themselves.\n",
    "But for strings and integer values,variables simply contain the string or integer value."
   ]
  },
  {
   "cell_type": "markdown",
   "id": "580c2742",
   "metadata": {},
   "source": [
    "#q17\n",
    "copy() create reference to original object. If you change copied object - you change the original object.\n",
    ". deepcopy() creates new object and does real copying of original object to new one."
   ]
  }
 ],
 "metadata": {
  "kernelspec": {
   "display_name": "Python 3 (ipykernel)",
   "language": "python",
   "name": "python3"
  },
  "language_info": {
   "codemirror_mode": {
    "name": "ipython",
    "version": 3
   },
   "file_extension": ".py",
   "mimetype": "text/x-python",
   "name": "python",
   "nbconvert_exporter": "python",
   "pygments_lexer": "ipython3",
   "version": "3.9.7"
  }
 },
 "nbformat": 4,
 "nbformat_minor": 5
}
