{
 "cells": [
  {
   "cell_type": "code",
   "execution_count": 1,
   "id": "79a415ee",
   "metadata": {},
   "outputs": [],
   "source": [
    "s=\"orem Ipsum is simply dummy text of the printing and typesetting industry. Lorem Ipsum has been the industry's standard dummy text ever since the 1500s, when an unknown printer took a galley of type and scrambled it to make a type specimen book. It has survived not only five centuries, but also the leap into electronic typesetting, remaining essentially unchanged. It was popularised in the 1960s with the release of Letraset sheets containing Lorem Ipsum passages, and more recently with desktop publishing software like Aldus PageMaker including versions of Lorem Ipsum.\""
   ]
  },
  {
   "cell_type": "code",
   "execution_count": 2,
   "id": "c40d4481",
   "metadata": {},
   "outputs": [
    {
     "data": {
      "text/plain": [
       "\"orem Ipsum is simply dummy text of the printing and typesetting industry. Lorem Ipsum has been the industry's standard dummy text ever since the 1500s, when an unknown printer took a galley of type and scrambled it to make a type specimen book. It has survived not only five centuries, but also the leap into electronic typesetting, remaining essentially unchanged. It was popularised in the 1960s with the release of Letraset sheets containing Lorem Ipsum passages, and more recently with desktop publishing software like Aldus PageMaker including versions of Lorem Ipsum.\""
      ]
     },
     "execution_count": 2,
     "metadata": {},
     "output_type": "execute_result"
    }
   ],
   "source": [
    "s"
   ]
  },
  {
   "cell_type": "code",
   "execution_count": 3,
   "id": "d39b269f",
   "metadata": {},
   "outputs": [
    {
     "data": {
      "text/plain": [
       "573"
      ]
     },
     "execution_count": 3,
     "metadata": {},
     "output_type": "execute_result"
    }
   ],
   "source": [
    "len(s)"
   ]
  },
  {
   "cell_type": "code",
   "execution_count": 4,
   "id": "4ec678d3",
   "metadata": {},
   "outputs": [
    {
     "data": {
      "text/plain": [
       "'o'"
      ]
     },
     "execution_count": 4,
     "metadata": {},
     "output_type": "execute_result"
    }
   ],
   "source": [
    "s[0]"
   ]
  },
  {
   "cell_type": "code",
   "execution_count": 5,
   "id": "2a532720",
   "metadata": {},
   "outputs": [
    {
     "data": {
      "text/plain": [
       "'.'"
      ]
     },
     "execution_count": 5,
     "metadata": {},
     "output_type": "execute_result"
    }
   ],
   "source": [
    "s[-1]"
   ]
  },
  {
   "cell_type": "code",
   "execution_count": 6,
   "id": "ad0c1de1",
   "metadata": {},
   "outputs": [
    {
     "data": {
      "text/plain": [
       "'r s  myuye  ertgntetniur r s se ensy aa m xerieh10 eaunnrt oaaeotensal   kay em o  suidooyi nrsb st '"
      ]
     },
     "execution_count": 6,
     "metadata": {},
     "output_type": "execute_result"
    }
   ],
   "source": [
    "#que 1\n",
    "s[1:300:3]"
   ]
  },
  {
   "cell_type": "code",
   "execution_count": 7,
   "id": "e2998f47",
   "metadata": {},
   "outputs": [
    {
     "data": {
      "text/plain": [
       "\".muspI meroL fo snoisrev gnidulcni rekaMegaP sudlA ekil erawtfos gnihsilbup potksed htiw yltnecer erom dna ,segassap muspI meroL gniniatnoc steehs tesarteL fo esaeler eht htiw s0691 eht ni desiralupop saw tI .degnahcnu yllaitnesse gniniamer ,gnittesepyt cinortcele otni pael eht osla tub ,seirutnec evif ylno ton devivrus sah tI .koob nemiceps epyt a ekam ot ti delbmarcs dna epyt fo yellag a koot retnirp nwonknu na nehw ,s0051 eht ecnis reve txet ymmud dradnats s'yrtsudni eht neeb sah muspI meroL .yrtsudni gnittesepyt dna gnitnirp eht fo txet ymmud ylpmis si muspI mero\""
      ]
     },
     "execution_count": 7,
     "metadata": {},
     "output_type": "execute_result"
    }
   ],
   "source": [
    "#que 2\n",
    "s[::-1]"
   ]
  },
  {
   "cell_type": "code",
   "execution_count": 11,
   "id": "f5336d99",
   "metadata": {},
   "outputs": [
    {
     "data": {
      "text/plain": [
       "\"OREM IPSUM IS SIMPLY DUMMY TEXT OF THE PRINTING AND TYPESETTING INDUSTRY. LOREM IPSUM HAS BEEN THE INDUSTRY'S STANDARD DUMMY TEXT EVER SINCE THE 1500S, WHEN AN UNKNOWN PRINTER TOOK A GALLEY OF TYPE AND SCRAMBLED IT TO MAKE A TYPE SPECIMEN BOOK. IT HAS SURVIVED NOT ONLY FIVE CENTURIES, BUT ALSO THE LEAP INTO ELECTRONIC TYPESETTING, REMAINING ESSENTIALLY UNCHANGED. IT WAS POPULARISED IN THE 1960S WITH THE RELEASE OF LETRASET SHEETS CONTAINING LOREM IPSUM PASSAGES, AND MORE RECENTLY WITH DESKTOP PUBLISHING SOFTWARE LIKE ALDUS PAGEMAKER INCLUDING VERSIONS OF LOREM IPSUM.\""
      ]
     },
     "execution_count": 11,
     "metadata": {},
     "output_type": "execute_result"
    }
   ],
   "source": [
    "#que 3\n",
    "s.upper()"
   ]
  },
  {
   "cell_type": "code",
   "execution_count": 12,
   "id": "c40f4cdc",
   "metadata": {},
   "outputs": [
    {
     "data": {
      "text/plain": [
       "['orem',\n",
       " 'Ipsum',\n",
       " 'is',\n",
       " 'simply',\n",
       " 'dummy',\n",
       " 'text',\n",
       " 'of',\n",
       " 'the',\n",
       " 'printing',\n",
       " 'and',\n",
       " 'typesetting',\n",
       " 'industry.',\n",
       " 'Lorem',\n",
       " 'Ipsum',\n",
       " 'has',\n",
       " 'been',\n",
       " 'the',\n",
       " \"industry's\",\n",
       " 'standard',\n",
       " 'dummy',\n",
       " 'text',\n",
       " 'ever',\n",
       " 'since',\n",
       " 'the',\n",
       " '1500s,',\n",
       " 'when',\n",
       " 'an',\n",
       " 'unknown',\n",
       " 'printer',\n",
       " 'took',\n",
       " 'a',\n",
       " 'galley',\n",
       " 'of',\n",
       " 'type',\n",
       " 'and',\n",
       " 'scrambled',\n",
       " 'it',\n",
       " 'to',\n",
       " 'make',\n",
       " 'a',\n",
       " 'type',\n",
       " 'specimen',\n",
       " 'book.',\n",
       " 'It',\n",
       " 'has',\n",
       " 'survived',\n",
       " 'not',\n",
       " 'only',\n",
       " 'five',\n",
       " 'centuries,',\n",
       " 'but',\n",
       " 'also',\n",
       " 'the',\n",
       " 'leap',\n",
       " 'into',\n",
       " 'electronic',\n",
       " 'typesetting,',\n",
       " 'remaining',\n",
       " 'essentially',\n",
       " 'unchanged.',\n",
       " 'It',\n",
       " 'was',\n",
       " 'popularised',\n",
       " 'in',\n",
       " 'the',\n",
       " '1960s',\n",
       " 'with',\n",
       " 'the',\n",
       " 'release',\n",
       " 'of',\n",
       " 'Letraset',\n",
       " 'sheets',\n",
       " 'containing',\n",
       " 'Lorem',\n",
       " 'Ipsum',\n",
       " 'passages,',\n",
       " 'and',\n",
       " 'more',\n",
       " 'recently',\n",
       " 'with',\n",
       " 'desktop',\n",
       " 'publishing',\n",
       " 'software',\n",
       " 'like',\n",
       " 'Aldus',\n",
       " 'PageMaker',\n",
       " 'including',\n",
       " 'versions',\n",
       " 'of',\n",
       " 'Lorem',\n",
       " 'Ipsum.']"
      ]
     },
     "execution_count": 12,
     "metadata": {},
     "output_type": "execute_result"
    }
   ],
   "source": [
    "\n",
    "s.split()\n"
   ]
  },
  {
   "cell_type": "code",
   "execution_count": 13,
   "id": "38482805",
   "metadata": {},
   "outputs": [
    {
     "data": {
      "text/plain": [
       "\"orem ipsum is simply dummy text of the printing and typesetting industry. lorem ipsum has been the industry's standard dummy text ever since the 1500s, when an unknown printer took a galley of type and scrambled it to make a type specimen book. it has survived not only five centuries, but also the leap into electronic typesetting, remaining essentially unchanged. it was popularised in the 1960s with the release of letraset sheets containing lorem ipsum passages, and more recently with desktop publishing software like aldus pagemaker including versions of lorem ipsum.\""
      ]
     },
     "execution_count": 13,
     "metadata": {},
     "output_type": "execute_result"
    }
   ],
   "source": [
    "#que 4\n",
    "s.lower()"
   ]
  },
  {
   "cell_type": "code",
   "execution_count": 14,
   "id": "405fb165",
   "metadata": {},
   "outputs": [
    {
     "data": {
      "text/plain": [
       "\"Orem ipsum is simply dummy text of the printing and typesetting industry. lorem ipsum has been the industry's standard dummy text ever since the 1500s, when an unknown printer took a galley of type and scrambled it to make a type specimen book. it has survived not only five centuries, but also the leap into electronic typesetting, remaining essentially unchanged. it was popularised in the 1960s with the release of letraset sheets containing lorem ipsum passages, and more recently with desktop publishing software like aldus pagemaker including versions of lorem ipsum.\""
      ]
     },
     "execution_count": 14,
     "metadata": {},
     "output_type": "execute_result"
    }
   ],
   "source": [
    "#que 5\n",
    "s.capitalize()"
   ]
  },
  {
   "cell_type": "code",
   "execution_count": 15,
   "id": "8d6c494e",
   "metadata": {},
   "outputs": [],
   "source": [
    "#que 6\n",
    "#isalnum :it will check whether it is alphabet or number if any one is true it will return true only\n",
    "#is alpha:it will check only is it number or not"
   ]
  },
  {
   "cell_type": "code",
   "execution_count": 16,
   "id": "fc4bbf85",
   "metadata": {},
   "outputs": [
    {
     "data": {
      "text/plain": [
       "False"
      ]
     },
     "execution_count": 16,
     "metadata": {},
     "output_type": "execute_result"
    }
   ],
   "source": [
    "\n",
    "s.isalnum()"
   ]
  },
  {
   "cell_type": "code",
   "execution_count": 18,
   "id": "fc5ddb15",
   "metadata": {},
   "outputs": [
    {
     "data": {
      "text/plain": [
       "False"
      ]
     },
     "execution_count": 18,
     "metadata": {},
     "output_type": "execute_result"
    }
   ],
   "source": [
    "\n",
    "s.isalpha()"
   ]
  },
  {
   "cell_type": "code",
   "execution_count": 19,
   "id": "6a251570",
   "metadata": {},
   "outputs": [],
   "source": [
    "#que 7\n",
    "a=\"hi\\tkrishna\\thow\\tare\\tyou\"\n",
    "txt=a.expandtabs()"
   ]
  },
  {
   "cell_type": "code",
   "execution_count": 20,
   "id": "23c597cb",
   "metadata": {},
   "outputs": [
    {
     "data": {
      "text/plain": [
       "'hi      krishna how     are     you'"
      ]
     },
     "execution_count": 20,
     "metadata": {},
     "output_type": "execute_result"
    }
   ],
   "source": [
    "txt"
   ]
  },
  {
   "cell_type": "code",
   "execution_count": 51,
   "id": "9076267b",
   "metadata": {},
   "outputs": [
    {
     "name": "stdout",
     "output_type": "stream",
     "text": [
      "******Heading\n"
     ]
    }
   ],
   "source": [
    "#que 8\n",
    "i = \"******Heading*****\"\n",
    "print(i.rstrip(\"*\"))"
   ]
  },
  {
   "cell_type": "code",
   "execution_count": 52,
   "id": "6391e8cf",
   "metadata": {},
   "outputs": [
    {
     "name": "stdout",
     "output_type": "stream",
     "text": [
      "Heading*****\n"
     ]
    }
   ],
   "source": [
    "i = \"******Heading*****\"\n",
    "print(i.lstrip(\"*\"))"
   ]
  },
  {
   "cell_type": "code",
   "execution_count": 53,
   "id": "e22ac040",
   "metadata": {},
   "outputs": [
    {
     "name": "stdout",
     "output_type": "stream",
     "text": [
      "Heading\n"
     ]
    }
   ],
   "source": [
    "i = \"******Heading*****\"\n",
    "print(i.strip(\"*\"))"
   ]
  },
  {
   "cell_type": "code",
   "execution_count": 54,
   "id": "c2252cc5",
   "metadata": {},
   "outputs": [],
   "source": [
    "#que 9\n",
    "v= \"ineuron is sudhansu platform\""
   ]
  },
  {
   "cell_type": "code",
   "execution_count": 58,
   "id": "cbffe3b4",
   "metadata": {},
   "outputs": [
    {
     "data": {
      "text/plain": [
       "'ineuron is good platform'"
      ]
     },
     "execution_count": 58,
     "metadata": {},
     "output_type": "execute_result"
    }
   ],
   "source": [
    "v.replace(\"sudhansu\",\"good\")"
   ]
  },
  {
   "cell_type": "code",
   "execution_count": 59,
   "id": "8dbe18be",
   "metadata": {},
   "outputs": [
    {
     "data": {
      "text/plain": [
       "'ineuron is good platform'"
      ]
     },
     "execution_count": 59,
     "metadata": {},
     "output_type": "execute_result"
    }
   ],
   "source": [
    "#que 10\n",
    "#The center() method returns a new centered string after padding it with the specified character.\n",
    "v"
   ]
  },
  {
   "cell_type": "code",
   "execution_count": 60,
   "id": "8b9f3915",
   "metadata": {},
   "outputs": [
    {
     "data": {
      "text/plain": [
       "'@@@ineuron is good platform@@@'"
      ]
     },
     "execution_count": 60,
     "metadata": {},
     "output_type": "execute_result"
    }
   ],
   "source": [
    "#example for center funcion\n",
    "w=v.center(30,\"@\")\n",
    "w"
   ]
  },
  {
   "cell_type": "markdown",
   "id": "aaf4aac2",
   "metadata": {},
   "source": [
    "#que 11\n",
    "compiler is an fixing the error and dubugging and deducting the error and\n",
    "the interpreter is an executing the program line by line."
   ]
  },
  {
   "cell_type": "markdown",
   "id": "1b7a7086",
   "metadata": {},
   "source": [
    "#que 12\n",
    "Python is an interpreted, object-oriented, high-level programming language with dynamic semantics.\n"
   ]
  },
  {
   "cell_type": "markdown",
   "id": "81fd0115",
   "metadata": {},
   "source": [
    "#que 13\n",
    "for webdesign\n",
    "for data science\n",
    "for game development\n",
    "for AI\n",
    "for software development"
   ]
  },
  {
   "cell_type": "code",
   "execution_count": null,
   "id": "f6e0ec92",
   "metadata": {},
   "outputs": [],
   "source": []
  }
 ],
 "metadata": {
  "kernelspec": {
   "display_name": "Python 3 (ipykernel)",
   "language": "python",
   "name": "python3"
  },
  "language_info": {
   "codemirror_mode": {
    "name": "ipython",
    "version": 3
   },
   "file_extension": ".py",
   "mimetype": "text/x-python",
   "name": "python",
   "nbconvert_exporter": "python",
   "pygments_lexer": "ipython3",
   "version": "3.9.7"
  }
 },
 "nbformat": 4,
 "nbformat_minor": 5
}
