{
 "cells": [
  {
   "cell_type": "markdown",
   "id": "63664592",
   "metadata": {},
   "source": [
    "#q1 To insert characters that are illegal in a string, use an escape character.\n",
    "An escape character is a backslash \\ followed by the character you want to insert."
   ]
  },
  {
   "cell_type": "markdown",
   "id": "bf8c922c",
   "metadata": {},
   "source": [
    "#q2 \\n newline\n",
    "\n",
    "     \\t tab"
   ]
  },
  {
   "cell_type": "markdown",
   "id": "6429147c",
   "metadata": {},
   "source": [
    "#q3  To insert characters that are illegal in a string,use an escape character.\n",
    "An escape character is a backslash \\ followed by the character you want to insert."
   ]
  },
  {
   "cell_type": "markdown",
   "id": "6e5e178b",
   "metadata": {},
   "source": [
    "#q4 \\r\tCarriage return\n",
    "\\t\tHorizontal tab\n",
    "\\v\tVertical tab\n",
    "\\'\tSingle quotation mark"
   ]
  },
  {
   "cell_type": "markdown",
   "id": "fb4dad00",
   "metadata": {},
   "source": [
    "#q5 The new line character in Python is \\n .\n",
    "It is used to indicate the end of a line of text. \n",
    "· You can print strings without adding a new line with ..."
   ]
  },
  {
   "cell_type": "code",
   "execution_count": 8,
   "id": "94d60855",
   "metadata": {},
   "outputs": [],
   "source": [
    "#q5 \n",
    "a = 'Hello, world!'"
   ]
  },
  {
   "cell_type": "code",
   "execution_count": 9,
   "id": "3e3d4b66",
   "metadata": {},
   "outputs": [
    {
     "data": {
      "text/plain": [
       "'Hello, world!'"
      ]
     },
     "execution_count": 9,
     "metadata": {},
     "output_type": "execute_result"
    }
   ],
   "source": [
    "a"
   ]
  },
  {
   "cell_type": "code",
   "execution_count": 10,
   "id": "72c75c35",
   "metadata": {},
   "outputs": [
    {
     "data": {
      "text/plain": [
       "'e'"
      ]
     },
     "execution_count": 10,
     "metadata": {},
     "output_type": "execute_result"
    }
   ],
   "source": [
    "a[1]"
   ]
  },
  {
   "cell_type": "code",
   "execution_count": 11,
   "id": "42188e25",
   "metadata": {},
   "outputs": [
    {
     "data": {
      "text/plain": [
       "'Hello'"
      ]
     },
     "execution_count": 11,
     "metadata": {},
     "output_type": "execute_result"
    }
   ],
   "source": [
    "a[0:5]"
   ]
  },
  {
   "cell_type": "code",
   "execution_count": 12,
   "id": "80cd9058",
   "metadata": {},
   "outputs": [
    {
     "data": {
      "text/plain": [
       "'Hello'"
      ]
     },
     "execution_count": 12,
     "metadata": {},
     "output_type": "execute_result"
    }
   ],
   "source": [
    "a[:5]"
   ]
  },
  {
   "cell_type": "code",
   "execution_count": 13,
   "id": "e897a740",
   "metadata": {},
   "outputs": [
    {
     "data": {
      "text/plain": [
       "'lo, world!'"
      ]
     },
     "execution_count": 13,
     "metadata": {},
     "output_type": "execute_result"
    }
   ],
   "source": [
    "a[3:]"
   ]
  },
  {
   "cell_type": "code",
   "execution_count": 36,
   "id": "2c9570d5",
   "metadata": {},
   "outputs": [],
   "source": [
    "#q7 'Hello'.upper()"
   ]
  },
  {
   "cell_type": "code",
   "execution_count": 37,
   "id": "407da9d7",
   "metadata": {},
   "outputs": [
    {
     "data": {
      "text/plain": [
       "True"
      ]
     },
     "execution_count": 37,
     "metadata": {},
     "output_type": "execute_result"
    }
   ],
   "source": [
    "'Hello'.upper().isupper()"
   ]
  },
  {
   "cell_type": "code",
   "execution_count": 38,
   "id": "9ae2d583",
   "metadata": {},
   "outputs": [
    {
     "data": {
      "text/plain": [
       "'hellow'"
      ]
     },
     "execution_count": 38,
     "metadata": {},
     "output_type": "execute_result"
    }
   ],
   "source": [
    "'Hellow'.upper().lower()"
   ]
  },
  {
   "cell_type": "code",
   "execution_count": 41,
   "id": "1f21cd80",
   "metadata": {},
   "outputs": [],
   "source": [
    "#q8 'Remember,remember,the fifth of july.'.split()"
   ]
  },
  {
   "cell_type": "code",
   "execution_count": 40,
   "id": "dfbe84c6",
   "metadata": {},
   "outputs": [
    {
     "data": {
      "text/plain": [
       "'there-can-only-one.'"
      ]
     },
     "execution_count": 40,
     "metadata": {},
     "output_type": "execute_result"
    }
   ],
   "source": [
    "'-'.join('there can only one.'.split())"
   ]
  },
  {
   "cell_type": "code",
   "execution_count": 42,
   "id": "49ce3dc4",
   "metadata": {},
   "outputs": [
    {
     "name": "stdout",
     "output_type": "stream",
     "text": [
      "The original string is : \n",
      " I love geeksforgeeks \n",
      "\n",
      "The center aligned string is : \n",
      "          I love geeksforgeeks           \n",
      "\n",
      "Center aligned string with fillchr: \n",
      "##########I love geeksforgeeks##########\n"
     ]
    }
   ],
   "source": [
    "#q9\n",
    "\n",
    "str = \"I love geeksforgeeks\"\n",
    "  \n",
    "\n",
    "print (\"The original string is : \\n\", cstr, \"\\n\")\n",
    "\n",
    "print (\"The center aligned string is : \")\n",
    "print (str.center(40), \"\\n\")\n",
    "  \n",
    "\n",
    "print (\"Center aligned string with fillchr: \")\n",
    "print (str.center(40, '#'))"
   ]
  },
  {
   "cell_type": "code",
   "execution_count": 43,
   "id": "c1e2561a",
   "metadata": {},
   "outputs": [
    {
     "name": "stdout",
     "output_type": "stream",
     "text": [
      "The left aligned string is : \n",
      "I love geeksforgeeks--------------------\n"
     ]
    }
   ],
   "source": [
    "print (\"The left aligned string is : \")\n",
    "print (cstr.ljust(40, '-'))"
   ]
  },
  {
   "cell_type": "code",
   "execution_count": 35,
   "id": "56933e86",
   "metadata": {},
   "outputs": [
    {
     "name": "stdout",
     "output_type": "stream",
     "text": [
      "The right aligned string is : \n",
      "--------------------I love geeksforgeeks\n"
     ]
    }
   ],
   "source": [
    "print (\"The right aligned string is : \")\n",
    "print (str.rjust(40, '-'))"
   ]
  },
  {
   "cell_type": "markdown",
   "id": "f90e620d",
   "metadata": {},
   "source": [
    "#q10 The trim() method returns a string with whitespace\n",
    "characters removed from the start and end of the string."
   ]
  },
  {
   "cell_type": "code",
   "execution_count": null,
   "id": "ae65005c",
   "metadata": {},
   "outputs": [],
   "source": []
  }
 ],
 "metadata": {
  "kernelspec": {
   "display_name": "Python 3 (ipykernel)",
   "language": "python",
   "name": "python3"
  },
  "language_info": {
   "codemirror_mode": {
    "name": "ipython",
    "version": 3
   },
   "file_extension": ".py",
   "mimetype": "text/x-python",
   "name": "python",
   "nbconvert_exporter": "python",
   "pygments_lexer": "ipython3",
   "version": "3.9.7"
  }
 },
 "nbformat": 4,
 "nbformat_minor": 5
}
