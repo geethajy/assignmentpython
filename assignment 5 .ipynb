{
 "cells": [
  {
   "cell_type": "markdown",
   "id": "bb425a7f",
   "metadata": {},
   "source": [
    "#q1\n",
    "\n",
    "In Python to create an empty dictionary, we can assign no elements in curly brackets {}."
   ]
  },
  {
   "cell_type": "code",
   "execution_count": 3,
   "id": "82d6696a",
   "metadata": {},
   "outputs": [],
   "source": [
    "#q2\n",
    "d ={\"foo\":42}"
   ]
  },
  {
   "cell_type": "code",
   "execution_count": 4,
   "id": "a0241e80",
   "metadata": {},
   "outputs": [
    {
     "data": {
      "text/plain": [
       "{'foo': 42}"
      ]
     },
     "execution_count": 4,
     "metadata": {},
     "output_type": "execute_result"
    }
   ],
   "source": [
    "d"
   ]
  },
  {
   "cell_type": "markdown",
   "id": "20618740",
   "metadata": {},
   "source": [
    "#q3\n",
    "A list refers to a collection of various index value we will use to call or any operation.\n",
    "A dictionary refers to a hashed structure of various pairs of keys and values,key will used to call."
   ]
  },
  {
   "cell_type": "markdown",
   "id": "e4966483",
   "metadata": {},
   "source": [
    "#q4\n",
    "\n",
    "You get a KeyError error."
   ]
  },
  {
   "cell_type": "markdown",
   "id": "d7d9147e",
   "metadata": {},
   "source": [
    "#q5\n",
    "There is no difference. The in operator checks whether a value exists as a key in the dictionary."
   ]
  },
  {
   "cell_type": "markdown",
   "id": "9b46cc99",
   "metadata": {},
   "source": [
    "#q6\n",
    "'cat' in spam checks whether there is a 'cat' key in the dictionary, while 'cat' in spam.values() checks whether there is a value 'cat' for one of the keys in spam."
   ]
  },
  {
   "cell_type": "code",
   "execution_count": 3,
   "id": "3f68de19",
   "metadata": {},
   "outputs": [],
   "source": [
    "#q7 spam.setdefault('color', 'black')"
   ]
  },
  {
   "cell_type": "code",
   "execution_count": 4,
   "id": "419e81d6",
   "metadata": {},
   "outputs": [],
   "source": [
    "#q8 pprint.pprint()"
   ]
  },
  {
   "cell_type": "code",
   "execution_count": null,
   "id": "261603f9",
   "metadata": {},
   "outputs": [],
   "source": []
  }
 ],
 "metadata": {
  "kernelspec": {
   "display_name": "Python 3 (ipykernel)",
   "language": "python",
   "name": "python3"
  },
  "language_info": {
   "codemirror_mode": {
    "name": "ipython",
    "version": 3
   },
   "file_extension": ".py",
   "mimetype": "text/x-python",
   "name": "python",
   "nbconvert_exporter": "python",
   "pygments_lexer": "ipython3",
   "version": "3.9.7"
  }
 },
 "nbformat": 4,
 "nbformat_minor": 5
}
