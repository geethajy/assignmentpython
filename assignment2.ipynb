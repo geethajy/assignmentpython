{
 "cells": [
  {
   "cell_type": "markdown",
   "id": "edda17cd",
   "metadata": {},
   "source": [
    "#assignment 2   python basics\n",
    "#q1\n",
    "\n",
    " Any integer, floating-point number, or complex number having zero as a value is considered as False, \n",
    "while if they are having value as any positive or negative number then it is considered as True."
   ]
  },
  {
   "cell_type": "markdown",
   "id": "68f674c5",
   "metadata": {},
   "source": [
    "#q2\n",
    " They evaluate expressions down to Boolean values, returning either True or False . These operators are and , or , and not and."
   ]
  },
  {
   "cell_type": "markdown",
   "id": "3f3e8c6e",
   "metadata": {},
   "source": [
    "#q3\n",
    "AND operator\n",
    "A\tB\tC\n",
    "1\t1\t1\n",
    "1\t0\t0\n",
    "0\t1\t0\n",
    "0\t0\t0\n",
    " OR OPERATOR\n",
    "A\tB\tC\n",
    "1\t1\t1\n",
    "1\t0\t1\n",
    "0\t1\t1\n",
    "0\t0\t0  \n"
   ]
  },
  {
   "cell_type": "code",
   "execution_count": 4,
   "id": "93b42665",
   "metadata": {},
   "outputs": [
    {
     "data": {
      "text/plain": [
       "False"
      ]
     },
     "execution_count": 4,
     "metadata": {},
     "output_type": "execute_result"
    }
   ],
   "source": [
    "#q4\n",
    "(5 > 4) and (3 == 5)"
   ]
  },
  {
   "cell_type": "code",
   "execution_count": 1,
   "id": "3c9c7d22",
   "metadata": {},
   "outputs": [
    {
     "data": {
      "text/plain": [
       "False"
      ]
     },
     "execution_count": 1,
     "metadata": {},
     "output_type": "execute_result"
    }
   ],
   "source": [
    "not (5 > 4)"
   ]
  },
  {
   "cell_type": "code",
   "execution_count": 2,
   "id": "3291eb60",
   "metadata": {},
   "outputs": [
    {
     "data": {
      "text/plain": [
       "True"
      ]
     },
     "execution_count": 2,
     "metadata": {},
     "output_type": "execute_result"
    }
   ],
   "source": [
    "(5 > 4) or (3 == 5)"
   ]
  },
  {
   "cell_type": "code",
   "execution_count": 3,
   "id": "558cde22",
   "metadata": {},
   "outputs": [
    {
     "data": {
      "text/plain": [
       "False"
      ]
     },
     "execution_count": 3,
     "metadata": {},
     "output_type": "execute_result"
    }
   ],
   "source": [
    "not ((5 > 4) or (3 == 5))"
   ]
  },
  {
   "cell_type": "code",
   "execution_count": 4,
   "id": "9c4e51e8",
   "metadata": {},
   "outputs": [
    {
     "data": {
      "text/plain": [
       "False"
      ]
     },
     "execution_count": 4,
     "metadata": {},
     "output_type": "execute_result"
    }
   ],
   "source": [
    "(True and True) and (True == False)"
   ]
  },
  {
   "cell_type": "code",
   "execution_count": 5,
   "id": "2220367b",
   "metadata": {},
   "outputs": [
    {
     "data": {
      "text/plain": [
       "True"
      ]
     },
     "execution_count": 5,
     "metadata": {},
     "output_type": "execute_result"
    }
   ],
   "source": [
    "(not False) or (not True)"
   ]
  },
  {
   "cell_type": "markdown",
   "id": "e6539c8c",
   "metadata": {},
   "source": [
    "#q5\n",
    "Less than ( < )\n",
    "Less than or equal to ( <= )\n",
    "Greater than ( > )\n",
    "Greater than or equal to ( >= )\n",
    "Equal to ( == )\n",
    "Not equal to ( != )"
   ]
  },
  {
   "cell_type": "markdown",
   "id": "5f1e2ffa",
   "metadata": {},
   "source": [
    "#q6\n",
    "The “=” is an assignment operator is used to assign the value on the right to the variable on the left. \n",
    "The '==' operator checks whether the two given operands are equal or not.\n",
    "If so, it returns true. Otherwise it returns false"
   ]
  },
  {
   "cell_type": "code",
   "execution_count": 11,
   "id": "123eddee",
   "metadata": {},
   "outputs": [
    {
     "name": "stdout",
     "output_type": "stream",
     "text": [
      "ham\n",
      "spam\n",
      "spam\n"
     ]
    }
   ],
   "source": [
    "#q7\n",
    "spam = 0\n",
    "if spam == 10:\n",
    "    print('eggs')\n",
    "if spam > 5:\n",
    "    print('bacon')\n",
    "else:\n",
    "    print(\"ham\")\n",
    "    print(\"spam\")\n",
    "    print(\"spam\")"
   ]
  },
  {
   "cell_type": "code",
   "execution_count": 14,
   "id": "377e3309",
   "metadata": {},
   "outputs": [
    {
     "name": "stdout",
     "output_type": "stream",
     "text": [
      "Greetings\n"
     ]
    }
   ],
   "source": [
    "#q8\n",
    "spam = 0\n",
    "if spam == 1:\n",
    "    print(\"hello\")\n",
    "if spam == 2:\n",
    "    print(\"Howdy\")\n",
    "else:\n",
    "    print(\"Greetings\")"
   ]
  },
  {
   "cell_type": "markdown",
   "id": "3c9d937a",
   "metadata": {},
   "source": [
    "#q9\n",
    "An infinite loop occurs when a program keeps executing within one loop, never leaving it.\n",
    "To exit out of infinite loops on the command line, press CTRL + C \n"
   ]
  },
  {
   "cell_type": "markdown",
   "id": "d1d2b248",
   "metadata": {},
   "source": [
    "#q10\n",
    "when break keyword comes, it terminates the execution of the current loop and passes the control over the next loop or\n",
    "main body,whereas when continue keyword is encountered, \n",
    "it skips the current iteration and executes the very next iteration in the loop"
   ]
  },
  {
   "cell_type": "code",
   "execution_count": 21,
   "id": "b9edd60f",
   "metadata": {},
   "outputs": [
    {
     "name": "stdout",
     "output_type": "stream",
     "text": [
      "0 1 2 3 4 5 6 7 8 9 "
     ]
    }
   ],
   "source": [
    "          #q11\n",
    "\n",
    "\n",
    "for i in range(0,10):\n",
    "    print(i, end=' ')\n",
    "\n",
    "\n"
   ]
  },
  {
   "cell_type": "code",
   "execution_count": 22,
   "id": "dd6d5024",
   "metadata": {},
   "outputs": [
    {
     "name": "stdout",
     "output_type": "stream",
     "text": [
      "0 1 2 3 4 5 6 7 8 9 "
     ]
    }
   ],
   "source": [
    "\n",
    "for i in range(10):\n",
    "    print(i, end=' ')\n",
    "\n"
   ]
  },
  {
   "cell_type": "code",
   "execution_count": 26,
   "id": "f6505213",
   "metadata": {},
   "outputs": [
    {
     "name": "stdout",
     "output_type": "stream",
     "text": [
      "0 1 2 3 4 5 6 7 8 9 "
     ]
    }
   ],
   "source": [
    "for i in range(0, 10, 1):\n",
    "    print(i, end=' ')\n"
   ]
  },
  {
   "cell_type": "code",
   "execution_count": 2,
   "id": "5846b7bc",
   "metadata": {},
   "outputs": [
    {
     "name": "stdout",
     "output_type": "stream",
     "text": [
      "1  2  3  4  5  6  7  8  9  10  "
     ]
    }
   ],
   "source": [
    "            #q12\n",
    "for i in range(1,11):\n",
    "  print(i,end=\"  \")"
   ]
  },
  {
   "cell_type": "code",
   "execution_count": 3,
   "id": "f64957e2",
   "metadata": {},
   "outputs": [
    {
     "name": "stdout",
     "output_type": "stream",
     "text": [
      "1  2  3  4  5  6  7  8  9  10  "
     ]
    }
   ],
   "source": [
    "i=1\n",
    "while(i<=10):\n",
    "    print(i,end=\"  \")\n",
    "    i=i+1\n",
    "    "
   ]
  },
  {
   "cell_type": "markdown",
   "id": "a340ed95",
   "metadata": {},
   "source": [
    "#q13\n",
    "spam.bacon()\n",
    "     \n",
    "\n"
   ]
  },
  {
   "cell_type": "code",
   "execution_count": null,
   "id": "d0a1b945",
   "metadata": {},
   "outputs": [],
   "source": []
  }
 ],
 "metadata": {
  "kernelspec": {
   "display_name": "Python 3 (ipykernel)",
   "language": "python",
   "name": "python3"
  },
  "language_info": {
   "codemirror_mode": {
    "name": "ipython",
    "version": 3
   },
   "file_extension": ".py",
   "mimetype": "text/x-python",
   "name": "python",
   "nbconvert_exporter": "python",
   "pygments_lexer": "ipython3",
   "version": "3.9.7"
  }
 },
 "nbformat": 4,
 "nbformat_minor": 5
}
